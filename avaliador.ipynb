{
  "nbformat": 4,
  "nbformat_minor": 0,
  "metadata": {
    "colab": {
      "provenance": [],
      "authorship_tag": "ABX9TyOJ+N9uR7vP4ZbE5C9BFBOz",
      "include_colab_link": true
    },
    "kernelspec": {
      "name": "python3",
      "display_name": "Python 3"
    },
    "language_info": {
      "name": "python"
    }
  },
  "cells": [
    {
      "cell_type": "markdown",
      "metadata": {
        "id": "view-in-github",
        "colab_type": "text"
      },
      "source": [
        "<a href=\"https://colab.research.google.com/github/raphaelpavao/lab-natty-or-not/blob/main/avaliador.ipynb\" target=\"_parent\"><img src=\"https://colab.research.google.com/assets/colab-badge.svg\" alt=\"Open In Colab\"/></a>"
      ]
    },
    {
      "cell_type": "markdown",
      "source": [],
      "metadata": {
        "id": "LyCv1GHynFeG"
      }
    },
    {
      "cell_type": "markdown",
      "source": [
        "# IMPORTAÇÕES"
      ],
      "metadata": {
        "id": "gIt8__Z3ssvS"
      }
    },
    {
      "cell_type": "code",
      "execution_count": 2,
      "metadata": {
        "id": "cBdCtYKhmUzw"
      },
      "outputs": [],
      "source": [
        "import requests\n",
        "import json\n",
        "import openai"
      ]
    },
    {
      "cell_type": "markdown",
      "source": [
        "# KEY"
      ],
      "metadata": {
        "id": "2rMJAouRsw7f"
      }
    },
    {
      "cell_type": "code",
      "source": [
        "# Configurações da API Google\n",
        "api_key = ''\n",
        "# Configurações da API do OpenAI\n",
        "openai.api_key = ''\n",
        "\n"
      ],
      "metadata": {
        "id": "DmicwfIsmiFc"
      },
      "execution_count": 3,
      "outputs": []
    },
    {
      "cell_type": "markdown",
      "source": [
        "#COORDENADAS"
      ],
      "metadata": {
        "id": "xd7URju9M3g7"
      }
    },
    {
      "cell_type": "code",
      "source": [
        "#Coordenada geográfica, palavra chave e raio da busca\n",
        "location = \"-22.87404025311588, -47.06161652833972\"  # Coordenadas de exemplo (São Paulo)\n",
        "keyword = \"bicicletaria\"\n",
        "radius = 5000"
      ],
      "metadata": {
        "id": "IDD3fRkhM0WI"
      },
      "execution_count": 4,
      "outputs": []
    },
    {
      "cell_type": "markdown",
      "source": [
        "#CHAMADA DA API PARA BUSCAR AS OPÇOES"
      ],
      "metadata": {
        "id": "_OfR4E-ptTSP"
      }
    },
    {
      "cell_type": "code",
      "source": [
        "url = f\"https://maps.googleapis.com/maps/api/place/nearbysearch/json?location={location}&radius={radius}&keyword={keyword}&key={api_key}\"\n",
        "response = requests.get(url)\n",
        "\n",
        "if response.status_code == 200:\n",
        "    data = response.json()\n",
        "\n",
        "    if 'results' in data and len(data['results']) > 0:\n",
        "        opcoes = []\n",
        "        for i in range(min(3, len(data['results']))):\n",
        "            place_id = data['results'][i].get('place_id', 'N/A')\n",
        "            name = data['results'][i].get('name', 'N/A')\n",
        "            opcoes.append((place_id, name))\n",
        "\n",
        "        opcao1 = opcoes[0] if len(opcoes) > 0 else (None, None)\n",
        "        opcao2 = opcoes[1] if len(opcoes) > 1 else (None, None)\n",
        "        opcao3 = opcoes[2] if len(opcoes) > 2 else (None, None)\n",
        "\n",
        "        print(\"Digite o número da sua opção:\")\n",
        "        print(f\"Opção 1: {opcao1[1]}\")\n",
        "        print(f\"opção 2: {opcao2[1]}\")\n",
        "        print(f\"opção 3: {opcao3[1]}\")\n",
        "    else:\n",
        "        print(\"Nenhum lugar encontrado. Verifique os detalhes da pesquisa.\")\n",
        "else:\n",
        "    print(f\"Erro na requisição: {response.status_code}\")\n"
      ],
      "metadata": {
        "id": "-3aZRX6aJUk5"
      },
      "execution_count": null,
      "outputs": []
    },
    {
      "cell_type": "code",
      "source": [
        "#ESCOLHA DA OPÇÃO"
      ],
      "metadata": {
        "id": "YQ14NwsQn8Vt"
      },
      "execution_count": 6,
      "outputs": []
    },
    {
      "cell_type": "code",
      "source": [
        "opcao_escolhida = 2\n",
        "if opcao_escolhida == 1:\n",
        "    opcao_selecionada = opcao1[1]\n",
        "    place_id = opcao1[0]\n",
        "    print(opcao_selecionada)\n",
        "    print(place_id)\n",
        "\n",
        "elif opcao_escolhida == 2:\n",
        "    opcao_selecionada = opcao2[1]\n",
        "    place_id = opcao2[0]\n",
        "    print(opcao_selecionada)\n",
        "    print(place_id)\n",
        "\n",
        "elif opcao_escolhida == 3:\n",
        "    opcao_selecionada = opcao3[1]\n",
        "    place_id = opcao3[0]\n",
        "    print(opcao_selecionada)\n",
        "    print(place_id)\n",
        "\n",
        "else:\n",
        "    print(\"Opção inválida.\")\n",
        "\n",
        "\n",
        "\n"
      ],
      "metadata": {
        "id": "eTSxSerFRhb7"
      },
      "execution_count": null,
      "outputs": []
    },
    {
      "cell_type": "code",
      "source": [
        "def print_reviews(place_id):\n",
        "  url_reviews = f\"https://maps.googleapis.com/maps/api/place/details/json?place_id={place_id}&fields=name,place_id,reviews&language=pt&key={api_key}\"\n",
        "  response_reviews = requests.get(url_reviews)\n",
        "  if response_reviews.status_code == 200:\n",
        "    data_reviews = response_reviews.json()\n",
        "    if 'result' in data_reviews and 'reviews' in data_reviews['result']:\n",
        "      reviews = data_reviews['result']['reviews']\n",
        "      formatted_reviews = []\n",
        "      for i, review in enumerate(reviews[:3]):\n",
        "        formatted_reviews.append(f\"Avaliação {i+1}:\\nRating: {review['rating']}\\nTexto: {review['text']}\\nData: {review['time']}\\n\")\n",
        "        return '\\n'.join(formatted_reviews)\n",
        "    else:\n",
        "      return \"Nenhuma avaliação encontrada para este lugar.\"\n",
        "  else:\n",
        "    return"
      ],
      "metadata": {
        "id": "yckf-APcYnjC"
      },
      "execution_count": 7,
      "outputs": []
    },
    {
      "cell_type": "code",
      "source": [
        "url = f\"https://maps.googleapis.com/maps/api/place/details/json?place_id={place_id}&fields=name,place_id,reviews&key={api_key}&language=pt\"\n",
        "response = requests.get(url)\n",
        "\n",
        "if response.status_code == 200:\n",
        "    data = response.json()\n",
        "\n",
        "    if 'result' in data and 'reviews' in data['result']:\n",
        "        reviews = data['result']['reviews']\n",
        "        print(f\"Nome do Lugar: {data['result']['name']}\")\n",
        "        avaliacoes=\"\"\n",
        "        for i, review in enumerate(reviews[:5]):\n",
        "            avaliacoes+= f\"*{i+1}:{review['text']}\"\n",
        "        print(avaliacoes)\n",
        "    else:\n",
        "        print(\"Nenhuma avaliação encontrada para este lugar.\")\n",
        "else:\n",
        "    print(f\"Erro na requisição: {response.status_code}\")\n"
      ],
      "metadata": {
        "id": "CUkCOVYaWFSt"
      },
      "execution_count": null,
      "outputs": []
    },
    {
      "cell_type": "code",
      "source": [
        "\n",
        "# Enviar o texto das avaliações para a API da OpenAI\n",
        "response = openai.ChatCompletion.create(\n",
        "  model=\"gpt-3.5-turbo\",\n",
        "  messages=[\n",
        "    {\"role\": \"system\", \"content\": \"Você é um assistente que ajuda a avaliar textos de reviews de usuários.\"},\n",
        "    {\"role\": \"user\", \"content\": f\"Avalie as seguintes avaliações. Elas estão separadas por *. Para cada uma delas dê uma nota de 0 a 10 e forneça um resumo dos pontos positivos e negativos. Forneça a nota média e um resumo geral em bullet points.\\n\\n{avaliacoes}\"},\n",
        "  ],\n",
        "  max_tokens=500,\n",
        "  temperature=0.5,\n",
        ")\n",
        "\n",
        "\n",
        "# Exibir a resposta da OpenAI\n",
        "print(response['choices'][0]['message']['content'])\n",
        "\n"
      ],
      "metadata": {
        "id": "JeCsvIwDyFQJ"
      },
      "execution_count": null,
      "outputs": []
    }
  ]
}